{
 "cells": [
  {
   "cell_type": "code",
   "execution_count": 1,
   "id": "0b127e9c-97cc-4d02-a09e-ca0fef979ccf",
   "metadata": {},
   "outputs": [],
   "source": [
    "import pandas as pd\n",
    "import requests, os\n",
    "import matplotlib.pyplot as plt\n",
    "import numpy as np"
   ]
  },
  {
   "cell_type": "code",
   "execution_count": 2,
   "id": "11024bdf-48e6-4673-beb7-58ca1b452e7b",
   "metadata": {},
   "outputs": [],
   "source": [
    "def downloadCSV():\n",
    "    n, m = 15, 16\n",
    "    url = 'https://dati.istruzione.it/opendata'\n",
    "    namef = '/ALUCORSOETASTA20{}{}20{}0831.csv'\n",
    "    lsfile = {}\n",
    "    for i in range(6):\n",
    "        fname = namef.format(n, m, m)\n",
    "        lsfile['./static/data'+fname] = 'OK'\n",
    "        try:\n",
    "            f = open('./static/data'+fname, 'x')\n",
    "            f.close()\n",
    "        except:\n",
    "            pass\n",
    "        if os.path.getsize('./static/data'+fname)==0:\n",
    "            f = open('./static/data'+fname, 'wb')\n",
    "            response = requests.get(url+fname)\n",
    "            if response.reason == 'OK':\n",
    "                f.write(response.content)\n",
    "            lsfile['./static/data'+fname] = response.reason\n",
    "            f.close()\n",
    "        n += 1\n",
    "        m += 1\n",
    "    return lsfile"
   ]
  },
  {
   "cell_type": "code",
   "execution_count": 3,
   "id": "bd599eb7-0611-48cf-bca9-86e013660c15",
   "metadata": {},
   "outputs": [],
   "source": [
    "from difflib import SequenceMatcher\n",
    "\n",
    "def similar(a, b):\n",
    "    return SequenceMatcher(None, a, b).ratio()"
   ]
  },
  {
   "cell_type": "code",
   "execution_count": 4,
   "id": "bacc5330-ff79-43e5-8ec2-20a743863106",
   "metadata": {},
   "outputs": [],
   "source": [
    "def toNum(s):\n",
    "    if '<' in s:\n",
    "        return int(s[-7:-5])-1\n",
    "    elif '>' in s:\n",
    "        return int(s[-7:-5])-1\n",
    "    else:\n",
    "        return int(s[-7:-5])\n",
    "            "
   ]
  },
  {
   "cell_type": "code",
   "execution_count": 5,
   "id": "860a0d49-e0f9-4185-9b0f-c99b7f7b5b5f",
   "metadata": {},
   "outputs": [],
   "source": [
    "def getTablesResults(data):#, cod_mecc):\n",
    "    tbls = []\n",
    "    for i in [path for path, status in data.items() if status == 'OK']:\n",
    "        tab = pd.read_csv(i)\n",
    "        tbls.append(tab)\n",
    "    tab = pd.concat(tbls, ignore_index=True)\n",
    "    #print(tab)\n",
    "    tab['ANNOSCOLASTICO'] = tab['ANNOSCOLASTICO'].apply(lambda n : str(n)[0:-2]+'/'+str(n)[-2:])\n",
    "    tab = tab.loc[tab['FASCIAETA']!='Non Classificabile']\n",
    "    tab['FASCIAETA'] = tab['FASCIAETA'].apply(toNum)\n",
    "    tab = tab.groupby(['CODICESCUOLA', 'ANNOSCOLASTICO', 'ORDINESCUOLA', 'ANNOCORSO', 'FASCIAETA']).agg({'ALUNNI': 'sum'})\n",
    "    #tab2 = tab.groupby(['CODICESCUOLA', 'ANNOSCOLASTICO', 'ORDINESCUOLA', 'ANNOCORSO']).agg({'ALUNNI': 'sum'})\n",
    "    return tab"
   ]
  },
  {
   "cell_type": "code",
   "execution_count": 105,
   "id": "73c9e697-f5c8-4bf7-8fd1-2ac3b5de784b",
   "metadata": {},
   "outputs": [],
   "source": [
    "def getTableByCode(tab, cod):\n",
    "    t = tab.loc[cod].reset_index()\n",
    "    t = t.groupby(['ANNOSCOLASTICO', 'ANNOCORSO']).agg({'ALUNNI': 'sum'})\n",
    "    t = t.reset_index()\n",
    "    t = t.pivot(index='ANNOCORSO', columns='ANNOSCOLASTICO', values='ALUNNI')\n",
    "    t = pd.DataFrame(t.to_records())\n",
    "    t.rename(columns={'ANNOCORSO':'Anno di corso'}, inplace=True)\n",
    "    t = t.set_index('Anno di corso')\n",
    "    t.to_csv('./static/results/{}{}.csv'.format(cod, o))\n",
    "    return t"
   ]
  },
  {
   "cell_type": "code",
   "execution_count": 90,
   "id": "d257c1c5-e92f-4e36-8850-dff0d0a020cd",
   "metadata": {},
   "outputs": [],
   "source": [
    "tab = getTablesResults(downloadCSV())\n",
    "sims = sorted([c for c in list(set(tab.index.get_level_values(0))) if similar(c, 'MITF03801E')>0.75], reverse=True, key = lambda c : similar(c, 'MITF03801E'))"
   ]
  },
  {
   "cell_type": "code",
   "execution_count": 111,
   "id": "58f6dcc3-3b68-4a8a-aa8f-dcd8f8d2ce1a",
   "metadata": {},
   "outputs": [],
   "source": [
    "def getTableByCode(tab, cod, collect_regular=True):\n",
    "    tb = tab.loc[cod].reset_index()\n",
    "    for o in set(tb.ORDINESCUOLA):\n",
    "        t = tb[(tb.FASCIAETA<=tb.ANNOCORSO+regularage[o])==collect_regular]\n",
    "        t = t.groupby(['ANNOSCOLASTICO', 'ANNOCORSO']).agg({'ALUNNI': 'sum'})\n",
    "        t = t.reset_index()\n",
    "        t = t.pivot(index='ANNOCORSO', columns='ANNOSCOLASTICO', values='ALUNNI')\n",
    "        t = pd.DataFrame(t.to_records())\n",
    "        t.rename(columns={'ANNOCORSO':'Anno di corso'}, inplace=True)\n",
    "        t = t.set_index('Anno di corso')\n",
    "        t.to_csv('./static/results/{}{}.csv'.format(cod, o))\n",
    "        return t"
   ]
  },
  {
   "cell_type": "code",
   "execution_count": 66,
   "id": "e683b266-5aa6-4d72-b1c6-45bb06fda380",
   "metadata": {},
   "outputs": [],
   "source": [
    "regularage = {\n",
    "    'SCUOLA PRIMARIA' : 5,\n",
    "    'SCUOLA SECONDARIA I GRADO' : 10,\n",
    "    'SCUOLA SECONDARIA II GRADO' : 13\n",
    "}"
   ]
  },
  {
   "cell_type": "code",
   "execution_count": 106,
   "id": "71ad7c9c-c671-4968-b193-bcdf50669ab4",
   "metadata": {},
   "outputs": [],
   "source": [
    "table = collectRegularAge(tab, 'MITF03801E')\n",
    "table1 = getTableByCode(tab, 'MITF03801E')"
   ]
  },
  {
   "cell_type": "code",
   "execution_count": 110,
   "id": "044f028d-5e07-4933-a933-e45efdcff48b",
   "metadata": {},
   "outputs": [
    {
     "ename": "KeyError",
     "evalue": "'MIMM8D201E'",
     "output_type": "error",
     "traceback": [
      "\u001b[1;31m---------------------------------------------------------------------------\u001b[0m",
      "\u001b[1;31mKeyError\u001b[0m                                  Traceback (most recent call last)",
      "File \u001b[1;32m~\\anaconda3\\lib\\site-packages\\pandas\\core\\indexes\\base.py:3629\u001b[0m, in \u001b[0;36mIndex.get_loc\u001b[1;34m(self, key, method, tolerance)\u001b[0m\n\u001b[0;32m   3628\u001b[0m \u001b[38;5;28;01mtry\u001b[39;00m:\n\u001b[1;32m-> 3629\u001b[0m     \u001b[38;5;28;01mreturn\u001b[39;00m \u001b[38;5;28;43mself\u001b[39;49m\u001b[38;5;241;43m.\u001b[39;49m\u001b[43m_engine\u001b[49m\u001b[38;5;241;43m.\u001b[39;49m\u001b[43mget_loc\u001b[49m\u001b[43m(\u001b[49m\u001b[43mcasted_key\u001b[49m\u001b[43m)\u001b[49m\n\u001b[0;32m   3630\u001b[0m \u001b[38;5;28;01mexcept\u001b[39;00m \u001b[38;5;167;01mKeyError\u001b[39;00m \u001b[38;5;28;01mas\u001b[39;00m err:\n",
      "File \u001b[1;32m~\\anaconda3\\lib\\site-packages\\pandas\\_libs\\index.pyx:136\u001b[0m, in \u001b[0;36mpandas._libs.index.IndexEngine.get_loc\u001b[1;34m()\u001b[0m\n",
      "File \u001b[1;32m~\\anaconda3\\lib\\site-packages\\pandas\\_libs\\index.pyx:163\u001b[0m, in \u001b[0;36mpandas._libs.index.IndexEngine.get_loc\u001b[1;34m()\u001b[0m\n",
      "File \u001b[1;32mpandas\\_libs\\hashtable_class_helper.pxi:5198\u001b[0m, in \u001b[0;36mpandas._libs.hashtable.PyObjectHashTable.get_item\u001b[1;34m()\u001b[0m\n",
      "File \u001b[1;32mpandas\\_libs\\hashtable_class_helper.pxi:5206\u001b[0m, in \u001b[0;36mpandas._libs.hashtable.PyObjectHashTable.get_item\u001b[1;34m()\u001b[0m\n",
      "\u001b[1;31mKeyError\u001b[0m: 'MIMM8D201E'",
      "\nThe above exception was the direct cause of the following exception:\n",
      "\u001b[1;31mKeyError\u001b[0m                                  Traceback (most recent call last)",
      "Cell \u001b[1;32mIn [110], line 1\u001b[0m\n\u001b[1;32m----> 1\u001b[0m \u001b[43mtab\u001b[49m\u001b[43m[\u001b[49m\u001b[38;5;124;43m'\u001b[39;49m\u001b[38;5;124;43mMIMM8D201E\u001b[39;49m\u001b[38;5;124;43m'\u001b[39;49m\u001b[43m]\u001b[49m\n",
      "File \u001b[1;32m~\\anaconda3\\lib\\site-packages\\pandas\\core\\frame.py:3505\u001b[0m, in \u001b[0;36mDataFrame.__getitem__\u001b[1;34m(self, key)\u001b[0m\n\u001b[0;32m   3503\u001b[0m \u001b[38;5;28;01mif\u001b[39;00m \u001b[38;5;28mself\u001b[39m\u001b[38;5;241m.\u001b[39mcolumns\u001b[38;5;241m.\u001b[39mnlevels \u001b[38;5;241m>\u001b[39m \u001b[38;5;241m1\u001b[39m:\n\u001b[0;32m   3504\u001b[0m     \u001b[38;5;28;01mreturn\u001b[39;00m \u001b[38;5;28mself\u001b[39m\u001b[38;5;241m.\u001b[39m_getitem_multilevel(key)\n\u001b[1;32m-> 3505\u001b[0m indexer \u001b[38;5;241m=\u001b[39m \u001b[38;5;28;43mself\u001b[39;49m\u001b[38;5;241;43m.\u001b[39;49m\u001b[43mcolumns\u001b[49m\u001b[38;5;241;43m.\u001b[39;49m\u001b[43mget_loc\u001b[49m\u001b[43m(\u001b[49m\u001b[43mkey\u001b[49m\u001b[43m)\u001b[49m\n\u001b[0;32m   3506\u001b[0m \u001b[38;5;28;01mif\u001b[39;00m is_integer(indexer):\n\u001b[0;32m   3507\u001b[0m     indexer \u001b[38;5;241m=\u001b[39m [indexer]\n",
      "File \u001b[1;32m~\\anaconda3\\lib\\site-packages\\pandas\\core\\indexes\\base.py:3631\u001b[0m, in \u001b[0;36mIndex.get_loc\u001b[1;34m(self, key, method, tolerance)\u001b[0m\n\u001b[0;32m   3629\u001b[0m     \u001b[38;5;28;01mreturn\u001b[39;00m \u001b[38;5;28mself\u001b[39m\u001b[38;5;241m.\u001b[39m_engine\u001b[38;5;241m.\u001b[39mget_loc(casted_key)\n\u001b[0;32m   3630\u001b[0m \u001b[38;5;28;01mexcept\u001b[39;00m \u001b[38;5;167;01mKeyError\u001b[39;00m \u001b[38;5;28;01mas\u001b[39;00m err:\n\u001b[1;32m-> 3631\u001b[0m     \u001b[38;5;28;01mraise\u001b[39;00m \u001b[38;5;167;01mKeyError\u001b[39;00m(key) \u001b[38;5;28;01mfrom\u001b[39;00m \u001b[38;5;21;01merr\u001b[39;00m\n\u001b[0;32m   3632\u001b[0m \u001b[38;5;28;01mexcept\u001b[39;00m \u001b[38;5;167;01mTypeError\u001b[39;00m:\n\u001b[0;32m   3633\u001b[0m     \u001b[38;5;66;03m# If we have a listlike key, _check_indexing_error will raise\u001b[39;00m\n\u001b[0;32m   3634\u001b[0m     \u001b[38;5;66;03m#  InvalidIndexError. Otherwise we fall through and re-raise\u001b[39;00m\n\u001b[0;32m   3635\u001b[0m     \u001b[38;5;66;03m#  the TypeError.\u001b[39;00m\n\u001b[0;32m   3636\u001b[0m     \u001b[38;5;28mself\u001b[39m\u001b[38;5;241m.\u001b[39m_check_indexing_error(key)\n",
      "\u001b[1;31mKeyError\u001b[0m: 'MIMM8D201E'"
     ]
    }
   ],
   "source": [
    "tab['MIMM8D201E']"
   ]
  },
  {
   "cell_type": "code",
   "execution_count": 107,
   "id": "41c673df-3d2e-477a-9c11-c19e0bd3b087",
   "metadata": {},
   "outputs": [
    {
     "data": {
      "text/html": [
       "<div>\n",
       "<style scoped>\n",
       "    .dataframe tbody tr th:only-of-type {\n",
       "        vertical-align: middle;\n",
       "    }\n",
       "\n",
       "    .dataframe tbody tr th {\n",
       "        vertical-align: top;\n",
       "    }\n",
       "\n",
       "    .dataframe thead th {\n",
       "        text-align: right;\n",
       "    }\n",
       "</style>\n",
       "<table border=\"1\" class=\"dataframe\">\n",
       "  <thead>\n",
       "    <tr style=\"text-align: right;\">\n",
       "      <th></th>\n",
       "      <th>2015/16</th>\n",
       "      <th>2016/17</th>\n",
       "      <th>2017/18</th>\n",
       "      <th>2018/19</th>\n",
       "      <th>2019/20</th>\n",
       "      <th>2020/21</th>\n",
       "    </tr>\n",
       "    <tr>\n",
       "      <th>Anno di corso</th>\n",
       "      <th></th>\n",
       "      <th></th>\n",
       "      <th></th>\n",
       "      <th></th>\n",
       "      <th></th>\n",
       "      <th></th>\n",
       "    </tr>\n",
       "  </thead>\n",
       "  <tbody>\n",
       "    <tr>\n",
       "      <th>1</th>\n",
       "      <td>178</td>\n",
       "      <td>143</td>\n",
       "      <td>133</td>\n",
       "      <td>151</td>\n",
       "      <td>157</td>\n",
       "      <td>171</td>\n",
       "    </tr>\n",
       "    <tr>\n",
       "      <th>2</th>\n",
       "      <td>144</td>\n",
       "      <td>144</td>\n",
       "      <td>121</td>\n",
       "      <td>104</td>\n",
       "      <td>126</td>\n",
       "      <td>151</td>\n",
       "    </tr>\n",
       "    <tr>\n",
       "      <th>3</th>\n",
       "      <td>107</td>\n",
       "      <td>122</td>\n",
       "      <td>124</td>\n",
       "      <td>109</td>\n",
       "      <td>92</td>\n",
       "      <td>120</td>\n",
       "    </tr>\n",
       "    <tr>\n",
       "      <th>4</th>\n",
       "      <td>77</td>\n",
       "      <td>80</td>\n",
       "      <td>102</td>\n",
       "      <td>115</td>\n",
       "      <td>100</td>\n",
       "      <td>91</td>\n",
       "    </tr>\n",
       "    <tr>\n",
       "      <th>5</th>\n",
       "      <td>57</td>\n",
       "      <td>80</td>\n",
       "      <td>84</td>\n",
       "      <td>99</td>\n",
       "      <td>113</td>\n",
       "      <td>103</td>\n",
       "    </tr>\n",
       "  </tbody>\n",
       "</table>\n",
       "</div>"
      ],
      "text/plain": [
       "               2015/16  2016/17  2017/18  2018/19  2019/20  2020/21\n",
       "Anno di corso                                                      \n",
       "1                  178      143      133      151      157      171\n",
       "2                  144      144      121      104      126      151\n",
       "3                  107      122      124      109       92      120\n",
       "4                   77       80      102      115      100       91\n",
       "5                   57       80       84       99      113      103"
      ]
     },
     "execution_count": 107,
     "metadata": {},
     "output_type": "execute_result"
    }
   ],
   "source": [
    "table1"
   ]
  },
  {
   "cell_type": "code",
   "execution_count": 18,
   "id": "c3beb98b-edfa-4136-8b55-85697c4cd888",
   "metadata": {},
   "outputs": [],
   "source": [
    "v = '15 anni'"
   ]
  },
  {
   "cell_type": "code",
   "execution_count": 19,
   "id": "f5a346b4-ae9c-4264-9a63-bdcf457c9bb1",
   "metadata": {},
   "outputs": [
    {
     "data": {
      "text/plain": [
       "15"
      ]
     },
     "execution_count": 19,
     "metadata": {},
     "output_type": "execute_result"
    }
   ],
   "source": [
    "toNum(v)"
   ]
  },
  {
   "cell_type": "code",
   "execution_count": 32,
   "id": "cbf99772-93c2-41ef-ae1e-7a080d7bceaa",
   "metadata": {},
   "outputs": [
    {
     "data": {
      "text/plain": [
       "'Ciao'"
      ]
     },
     "execution_count": 32,
     "metadata": {},
     "output_type": "execute_result"
    }
   ],
   "source": [
    "set(['Ciao', 'Ciao', 'Ciao', 'Ciao']).pop()"
   ]
  },
  {
   "cell_type": "code",
   "execution_count": null,
   "id": "73f24023-a25f-4da7-b541-7b024473ec24",
   "metadata": {},
   "outputs": [],
   "source": []
  }
 ],
 "metadata": {
  "kernelspec": {
   "display_name": "Python 3 (ipykernel)",
   "language": "python",
   "name": "python3"
  },
  "language_info": {
   "codemirror_mode": {
    "name": "ipython",
    "version": 3
   },
   "file_extension": ".py",
   "mimetype": "text/x-python",
   "name": "python",
   "nbconvert_exporter": "python",
   "pygments_lexer": "ipython3",
   "version": "3.9.15"
  }
 },
 "nbformat": 4,
 "nbformat_minor": 5
}
