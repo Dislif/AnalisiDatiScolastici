{
 "cells": [
  {
   "cell_type": "code",
   "execution_count": 1,
   "id": "0b127e9c-97cc-4d02-a09e-ca0fef979ccf",
   "metadata": {},
   "outputs": [],
   "source": [
    "import pandas as pd\n",
    "import requests, os\n",
    "import matplotlib.pyplot as plt\n",
    "import numpy as np"
   ]
  },
  {
   "cell_type": "code",
   "execution_count": 2,
   "id": "11024bdf-48e6-4673-beb7-58ca1b452e7b",
   "metadata": {},
   "outputs": [],
   "source": [
    "def downloadCSV():\n",
    "    n, m = 15, 16\n",
    "    url = 'https://dati.istruzione.it/opendata'\n",
    "    namef = '/ALUCORSOETASTA20{}{}20{}0831.csv'\n",
    "    lsfile = {}\n",
    "    for i in range(6):\n",
    "        fname = namef.format(n, m, m)\n",
    "        lsfile['./static/data'+fname] = 'OK'\n",
    "        try:\n",
    "            f = open('./static/data'+fname, 'x')\n",
    "            f.close()\n",
    "        except:\n",
    "            pass\n",
    "        if os.path.getsize('./static/data'+fname)==0:\n",
    "            f = open('./static/data'+fname, 'wb')\n",
    "            response = requests.get(url+fname)\n",
    "            if response.reason == 'OK':\n",
    "                f.write(response.content)\n",
    "            lsfile['./static/data'+fname] = response.reason\n",
    "            f.close()\n",
    "        n += 1\n",
    "        m += 1\n",
    "    return lsfile"
   ]
  },
  {
   "cell_type": "code",
   "execution_count": 53,
   "id": "bd599eb7-0611-48cf-bca9-86e013660c15",
   "metadata": {},
   "outputs": [],
   "source": [
    "from difflib import SequenceMatcher\n",
    "\n",
    "def similar(a, b):\n",
    "    return SequenceMatcher(None, a, b).ratio()"
   ]
  },
  {
   "cell_type": "code",
   "execution_count": 48,
   "id": "860a0d49-e0f9-4185-9b0f-c99b7f7b5b5f",
   "metadata": {},
   "outputs": [],
   "source": [
    "def getTablesResults(data):#, cod_mecc):\n",
    "    tbls = []\n",
    "    for i in [path for path, status in data.items() if status == 'OK']:\n",
    "        tab = pd.read_csv(i)\n",
    "        tbls.append(tab)\n",
    "    tab = pd.concat(tbls, ignore_index=True)\n",
    "    tab['ANNOSCOLASTICO'] = tab['ANNOSCOLASTICO'].apply(lambda n : str(n)[0:-2]+'/'+str(n)[-2:])\n",
    "    tab = tab.groupby(['CODICESCUOLA', 'ANNOSCOLASTICO', 'ANNOCORSO']).agg({'ALUNNI': 'sum'})\n",
    "    return tab"
   ]
  },
  {
   "cell_type": "code",
   "execution_count": 71,
   "id": "73c9e697-f5c8-4bf7-8fd1-2ac3b5de784b",
   "metadata": {},
   "outputs": [],
   "source": [
    "def getTableByCode(table, cod):\n",
    "    df = tab.loc[cod].reset_index()\n",
    "    df = df.pivot(index='ANNOCORSO', columns='ANNOSCOLASTICO', values='ALUNNI')\n",
    "    df = pd.DataFrame(df.to_records())\n",
    "    df.rename(columns={'ANNOCORSO':'Anno di corso'}, inplace=True)\n",
    "    df = df.set_index('Anno di corso')\n",
    "    df.to_csv('./static/results/{}.csv'.format(cod))\n",
    "    return df;"
   ]
  },
  {
   "cell_type": "code",
   "execution_count": 76,
   "id": "d257c1c5-e92f-4e36-8850-dff0d0a020cd",
   "metadata": {},
   "outputs": [
    {
     "name": "stdout",
     "output_type": "stream",
     "text": [
      "                                       ALUNNI\n",
      "CODICESCUOLA ANNOSCOLASTICO ANNOCORSO        \n",
      "AGEE01102E   2015/16        1              53\n",
      "                            2              62\n",
      "                            3              57\n",
      "                            4              45\n",
      "                            5              61\n",
      "...                                       ...\n",
      "VVTL011519   2020/21        4              31\n",
      "                            5              14\n",
      "VVTN00201L   2020/21        1              18\n",
      "                            2              34\n",
      "                            3              27\n",
      "\n",
      "[733335 rows x 1 columns]\n",
      "['MITF00801P', 'MITF09601E', 'MOTF01801E', 'MITF03801E', 'MITD08101E', 'MITF08201L', 'MITF093013', 'MITF098016', 'MITD02301E', 'MITF063017']\n",
      "               2015/16  2016/17  2017/18  2018/19  2019/20  2020/21\n",
      "Anno di corso                                                      \n",
      "1                  178      143      133      151      157      171\n",
      "2                  144      144      121      104      126      151\n",
      "3                  107      122      124      109       92      120\n",
      "4                   77       80      102      115      100       91\n",
      "5                   57       80       84       99      113      103\n"
     ]
    }
   ],
   "source": [
    "tab = getTablesResults(downloadCSV())\n",
    "print(tab)\n",
    "sims = [c for c in list(set(tab.index.get_level_values(0))) if similar(c, 'MITF03801E')>0.75]\n",
    "print(sims)\n",
    "table = getTableByCode(tab, 'MITF03801E')\n",
    "print(table)"
   ]
  },
  {
   "cell_type": "code",
   "execution_count": null,
   "id": "71ad7c9c-c671-4968-b193-bcdf50669ab4",
   "metadata": {},
   "outputs": [],
   "source": []
  }
 ],
 "metadata": {
  "kernelspec": {
   "display_name": "Python 3 (ipykernel)",
   "language": "python",
   "name": "python3"
  },
  "language_info": {
   "codemirror_mode": {
    "name": "ipython",
    "version": 3
   },
   "file_extension": ".py",
   "mimetype": "text/x-python",
   "name": "python",
   "nbconvert_exporter": "python",
   "pygments_lexer": "ipython3",
   "version": "3.9.15"
  }
 },
 "nbformat": 4,
 "nbformat_minor": 5
}
