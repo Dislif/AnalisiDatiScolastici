{
 "cells": [
  {
   "cell_type": "code",
   "execution_count": 1,
   "id": "0b127e9c-97cc-4d02-a09e-ca0fef979ccf",
   "metadata": {},
   "outputs": [],
   "source": [
    "import pandas as pd\n",
    "import requests, os\n",
    "import matplotlib.pyplot as plt\n",
    "import numpy as np"
   ]
  },
  {
   "cell_type": "code",
   "execution_count": 2,
   "id": "11024bdf-48e6-4673-beb7-58ca1b452e7b",
   "metadata": {},
   "outputs": [],
   "source": [
    "def downloadCSV():\n",
    "    n, m = 15, 16\n",
    "    url = 'https://dati.istruzione.it/opendata'\n",
    "    namef = '/ALUCORSOETASTA20{}{}20{}0831.csv'\n",
    "    lsfile = {}\n",
    "    for i in range(6):\n",
    "        fname = namef.format(n, m, m)\n",
    "        lsfile['./static/data'+fname] = 'OK'\n",
    "        try:\n",
    "            f = open('./static/data'+fname, 'x')\n",
    "            f.close()\n",
    "        except:\n",
    "            pass\n",
    "        if os.path.getsize('./static/data'+fname)==0:\n",
    "            f = open('./static/data'+fname, 'wb')\n",
    "            response = requests.get(url+fname)\n",
    "            if response.reason == 'OK':\n",
    "                f.write(response.content)\n",
    "            lsfile['./static/data'+fname] = response.reason\n",
    "            f.close()\n",
    "        n += 1\n",
    "        m += 1\n",
    "    return lsfile"
   ]
  },
  {
   "cell_type": "code",
   "execution_count": 3,
   "id": "bd599eb7-0611-48cf-bca9-86e013660c15",
   "metadata": {},
   "outputs": [],
   "source": [
    "from difflib import SequenceMatcher\n",
    "\n",
    "def similar(a, b):\n",
    "    return SequenceMatcher(None, a, b).ratio()"
   ]
  },
  {
   "cell_type": "code",
   "execution_count": 4,
   "id": "bacc5330-ff79-43e5-8ec2-20a743863106",
   "metadata": {},
   "outputs": [],
   "source": [
    "def toNum(s):\n",
    "    if '<' in s:\n",
    "        return int(s[-7:-5])-1\n",
    "    elif '>' in s:\n",
    "        return int(s[-7:-5])-1\n",
    "    else:\n",
    "        return int(s[-7:-5])\n",
    "            "
   ]
  },
  {
   "cell_type": "code",
   "execution_count": 5,
   "id": "860a0d49-e0f9-4185-9b0f-c99b7f7b5b5f",
   "metadata": {},
   "outputs": [],
   "source": [
    "def getTablesResults(data):#, cod_mecc):\n",
    "    tbls = []\n",
    "    for i in [path for path, status in data.items() if status == 'OK']:\n",
    "        tab = pd.read_csv(i)\n",
    "        tbls.append(tab)\n",
    "    tab = pd.concat(tbls, ignore_index=True)\n",
    "    #print(tab)\n",
    "    tab['ANNOSCOLASTICO'] = tab['ANNOSCOLASTICO'].apply(lambda n : str(n)[0:-2]+'/'+str(n)[-2:])\n",
    "    tab = tab.loc[tab['FASCIAETA']!='Non Classificabile']\n",
    "    tab['FASCIAETA'] = tab['FASCIAETA'].apply(toNum)\n",
    "    tab = tab.groupby(['CODICESCUOLA', 'ANNOSCOLASTICO', 'ORDINESCUOLA', 'ANNOCORSO', 'FASCIAETA']).agg({'ALUNNI': 'sum'})\n",
    "    #tab2 = tab.groupby(['CODICESCUOLA', 'ANNOSCOLASTICO', 'ORDINESCUOLA', 'ANNOCORSO']).agg({'ALUNNI': 'sum'})\n",
    "    return tab"
   ]
  },
  {
   "cell_type": "code",
   "execution_count": 119,
   "id": "73c9e697-f5c8-4bf7-8fd1-2ac3b5de784b",
   "metadata": {},
   "outputs": [],
   "source": [
    "def getTableByCodeTot(tab, cod):\n",
    "    t = tab.loc[cod].reset_index()\n",
    "    t = t.groupby(['ANNOSCOLASTICO', 'ANNOCORSO']).agg({'ALUNNI': 'sum'})\n",
    "    t = t.reset_index()\n",
    "    t = t.pivot(index='ANNOCORSO', columns='ANNOSCOLASTICO', values='ALUNNI')\n",
    "    t = pd.DataFrame(t.to_records())\n",
    "    t.rename(columns={'ANNOCORSO':'Anno di corso'}, inplace=True)\n",
    "    t = t.set_index('Anno di corso')\n",
    "    t.to_csv('./static/results/{}{}.csv'.format(cod, o))\n",
    "    return t"
   ]
  },
  {
   "cell_type": "code",
   "execution_count": 90,
   "id": "d257c1c5-e92f-4e36-8850-dff0d0a020cd",
   "metadata": {},
   "outputs": [],
   "source": [
    "tab = getTablesResults(downloadCSV())\n",
    "sims = sorted([c for c in list(set(tab.index.get_level_values(0))) if similar(c, 'MITF03801E')>0.75], reverse=True, key = lambda c : similar(c, 'MITF03801E'))"
   ]
  },
  {
   "cell_type": "code",
   "execution_count": 124,
   "id": "58f6dcc3-3b68-4a8a-aa8f-dcd8f8d2ce1a",
   "metadata": {},
   "outputs": [],
   "source": [
    "def getTableByCode(tab, cod, collect_regular=True):\n",
    "    tb = tab.loc[cod].reset_index()\n",
    "    for o in set(tb.ORDINESCUOLA):\n",
    "        t = tb[(tb.FASCIAETA<=tb.ANNOCORSO+regularage[o])==collect_regular]\n",
    "        t = t.groupby(['ANNOSCOLASTICO', 'ANNOCORSO']).agg({'ALUNNI': 'sum'})\n",
    "        t = t.reset_index()\n",
    "        t = t.pivot(index='ANNOCORSO', columns='ANNOSCOLASTICO', values='ALUNNI')\n",
    "        t = pd.DataFrame(t.to_records())\n",
    "        t.rename(columns={'ANNOCORSO':'Anno di corso'}, inplace=True)\n",
    "        t = t.set_index('Anno di corso')\n",
    "        t.to_csv('./static/results/{}{}{}.csv'.format(cod, o, collect_regular))\n",
    "        return t"
   ]
  },
  {
   "cell_type": "code",
   "execution_count": 66,
   "id": "e683b266-5aa6-4d72-b1c6-45bb06fda380",
   "metadata": {},
   "outputs": [],
   "source": [
    "regularage = {\n",
    "    'SCUOLA PRIMARIA' : 5,\n",
    "    'SCUOLA SECONDARIA I GRADO' : 10,\n",
    "    'SCUOLA SECONDARIA II GRADO' : 13\n",
    "}"
   ]
  },
  {
   "cell_type": "code",
   "execution_count": 125,
   "id": "71ad7c9c-c671-4968-b193-bcdf50669ab4",
   "metadata": {},
   "outputs": [],
   "source": [
    "table = getTableByCode(tab, 'MITF03801E')"
   ]
  },
  {
   "cell_type": "code",
   "execution_count": 126,
   "id": "c90efdb7-878b-4f44-a32c-3e8ed673d3b6",
   "metadata": {},
   "outputs": [],
   "source": [
    "table1 = getTableByCode(tab, 'MITF03801E', collect_regular=False)"
   ]
  },
  {
   "cell_type": "code",
   "execution_count": null,
   "id": "215d1096-dede-4f5c-9532-1dd0e9b77908",
   "metadata": {},
   "outputs": [],
   "source": []
  }
 ],
 "metadata": {
  "kernelspec": {
   "display_name": "Python 3 (ipykernel)",
   "language": "python",
   "name": "python3"
  },
  "language_info": {
   "codemirror_mode": {
    "name": "ipython",
    "version": 3
   },
   "file_extension": ".py",
   "mimetype": "text/x-python",
   "name": "python",
   "nbconvert_exporter": "python",
   "pygments_lexer": "ipython3",
   "version": "3.9.15"
  }
 },
 "nbformat": 4,
 "nbformat_minor": 5
}
